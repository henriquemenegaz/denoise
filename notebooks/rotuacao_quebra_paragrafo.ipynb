{
 "cells": [
  {
   "cell_type": "markdown",
   "metadata": {},
   "source": [
    "# Classificador de Quebra de Parágrafo\n",
    "\n",
    "Como os processos judiciais são em sua maioria originados de digitalização, é muito comum não saber se a terminação de uma linha diz respeito a um novo parágrafo ou não. Isso dificulta a segmentaçao dos conteúdos de peças em parágrafos e, em razão disso, torna-se complicado segmentar frases coesas e conteúdos relacionados. O conteúdo copiado a seguir, foi editado, para que as quebras de parágrafo ficassem destacadas com o símbolo de parágrafo.\n",
    "\n",
    "```\n",
    "Eis, na íntegra, o r. despacho de id. 29e8a8a, mediante o qual foi denegado\\n \n",
    "\n",
    "\n",
    "seguimento ao recurso interposto pela ora agravante: §\\n\n",
    "\n",
    "\n",
    "CONSIDERAÇÕES PRELIMINARES §\\n\n",
    "\n",
    "\n",
    "O recorrente indica a existência de divergência jurisprudencial \\n\n",
    "\n",
    "\n",
    "entre as turmas deste Regional relativa aos temas Plano de Incentivo ao Desligamento \\n\n",
    "\n",
    "\n",
    "Voluntário - quitação das verbas rescisórias e natureza salarial do auxílio alimentação. \\n\n",
    "\n",
    "\n",
    "No entanto, em relação ao primeiro tema, não vislumbro a \\n\n",
    "\n",
    "```\n",
    "\n",
    "Mascarado\n",
    "\n",
    "\n",
    "```\n",
    "Eis, na [MASK], o r. despacho de id. 29e8a8a, mediante o qual foi denegado\\n \n",
    "\n",
    "\n",
    "seguimento ao recurso [MASK] pela ora agravante: §\\n\n",
    "\n",
    "\n",
    "CONSIDERAÇÕES PRELIMINARES §\\n\n",
    "\n",
    "\n",
    "O recorrente indica a existência de [MASK] jurisprudencial \\n\n",
    "\n",
    "\n",
    "entre as turmas deste [MASK] relativa aos temas Plano de Incentivo ao Desligamento \\n\n",
    "\n",
    "\n",
    "[MASK] - quitação das [MASK] rescisórias e natureza [MASK] do auxílio alimentação. \\n\n",
    "\n",
    "\n",
    "No entanto, em relação ao [MASK] tema, não vislumbro a \\n\n",
    "\n",
    "```\n",
    "\n",
    "Perceba que, apesar de haver quebra de linha (`\\n`), elas não necessariamente indicam a quebra de parágrafos (`§`). \n",
    "\n",
    "A tarefa alvo este trabalho é reconhecer quando uma quebra de linha refere-se a uma quebra de parágrafo. Para isso, considera-se uma `n` tokens antes e após a quebra de linha. As quebras de linha concatenadas serão substituídas por apenas uma quebra de linha. Os `n` tokens anteriores e posteriores serão coletados no fluxo do texto até que se encontre uma quebra de linha. Por exemplo, no texto anterior se considerarmos a terceira quebra de linha como alvo da classificação, teríramos o seguinte texto como entrada:\n",
    "\n",
    "```\n",
    "CONSIDERAÇÕES PRELIMINARES §\\n\n",
    "\n",
    "\n",
    "O recorrente indica a existência de divergência jurisprudencial \\n\n",
    "```"
   ]
  },
  {
   "cell_type": "markdown",
   "metadata": {},
   "source": [
    "## Levantamento de Amostras"
   ]
  },
  {
   "cell_type": "markdown",
   "metadata": {},
   "source": [
    "### Carrega o json com amostra rotuladas"
   ]
  },
  {
   "cell_type": "code",
   "execution_count": 2,
   "metadata": {},
   "outputs": [],
   "source": [
    "import os\n",
    "import json\n",
    "import pandas as pd\n",
    "import tabulate\n",
    "from IPython.display import HTML, display\n",
    "import ipywidgets as widgets\n",
    "from ipywidgets import interact, interact_manual, Button, HBox, VBox, Textarea, Layout, Box"
   ]
  },
  {
   "cell_type": "code",
   "execution_count": 2,
   "metadata": {},
   "outputs": [
    {
     "name": "stdout",
     "output_type": "stream",
     "text": [
      "outs:\n",
      "- md5: b6f2e4cae27f534022dbe6bd32fb5f5d\n",
      "  size: 3786850746\n",
      "  isexec: true\n",
      "  path: julgados_GMALR.parquet\n"
     ]
    }
   ],
   "source": [
    "!cat ../data/raw/julgados_GMALR.parquet.dvc"
   ]
  },
  {
   "cell_type": "code",
   "execution_count": 28,
   "metadata": {},
   "outputs": [],
   "source": [
    "def get_file_path(md5):\n",
    "    return f'{md5[:2]}/{md5[2:]}'"
   ]
  },
  {
   "cell_type": "code",
   "execution_count": 29,
   "metadata": {},
   "outputs": [],
   "source": [
    "file_path = get_file_path('b6f2e4cae27f534022dbe6bd32fb5f5d')"
   ]
  },
  {
   "cell_type": "code",
   "execution_count": 30,
   "metadata": {},
   "outputs": [],
   "source": [
    "path = '/mnt/nas/tst_dados/'"
   ]
  },
  {
   "cell_type": "code",
   "execution_count": 31,
   "metadata": {},
   "outputs": [],
   "source": [
    "df = pd.read_parquet(path+file_path)"
   ]
  },
  {
   "cell_type": "code",
   "execution_count": 32,
   "metadata": {},
   "outputs": [
    {
     "data": {
      "text/html": [
       "<div>\n",
       "<style scoped>\n",
       "    .dataframe tbody tr th:only-of-type {\n",
       "        vertical-align: middle;\n",
       "    }\n",
       "\n",
       "    .dataframe tbody tr th {\n",
       "        vertical-align: top;\n",
       "    }\n",
       "\n",
       "    .dataframe thead th {\n",
       "        text-align: right;\n",
       "    }\n",
       "</style>\n",
       "<table border=\"1\" class=\"dataframe\">\n",
       "  <thead>\n",
       "    <tr style=\"text-align: right;\">\n",
       "      <th></th>\n",
       "      <th>NUMERO_PROCESSO</th>\n",
       "      <th>ANO</th>\n",
       "      <th>DTA_ENTRADA</th>\n",
       "      <th>PARTES</th>\n",
       "      <th>PARTES_AUTORAS</th>\n",
       "      <th>PARTES_RES</th>\n",
       "      <th>ADVOGADOS</th>\n",
       "      <th>ASSUNTOS</th>\n",
       "      <th>FUNDAMENTACOES</th>\n",
       "      <th>ADMISSIBILIDADE</th>\n",
       "      <th>RECURSO_REVISTA</th>\n",
       "      <th>AIRR</th>\n",
       "      <th>ACORDAO</th>\n",
       "      <th>CODIGO_DECISAO</th>\n",
       "      <th>DESCRICAO_DECISAO</th>\n",
       "      <th>DECISAO</th>\n",
       "      <th>DESPACHO</th>\n",
       "      <th>CPF_PARTES</th>\n",
       "      <th>CNPJ_PARTES</th>\n",
       "    </tr>\n",
       "  </thead>\n",
       "  <tbody>\n",
       "    <tr>\n",
       "      <th>0</th>\n",
       "      <td>0000001-04.2018.5.04.0103</td>\n",
       "      <td>2020,0</td>\n",
       "      <td>2020/04/07 03:34:33.000000000</td>\n",
       "      <td>ANDERSON MADRUGA DE QUADROS\\nBANCO BRADESCO S.A.</td>\n",
       "      <td>BANCO BRADESCO S.A.</td>\n",
       "      <td>ANDERSON MADRUGA DE QUADROS</td>\n",
       "      <td>André Rodigheri\\nMozart Victor Russomano Neto</td>\n",
       "      <td>Correção Monetária</td>\n",
       "      <td>Análise prejudicada</td>\n",
       "      <td>\\n\\n\\t\\n\\t\\t\\t\\t\\n\\t\\t\\t\\t\\t\\t[image: brasão]\\...</td>\n",
       "      <td>\\n \\n\\n \\n\\n\\nEXCELENTÍSSIMO(A) SENHOR(A) DESE...</td>\n",
       "      <td>\\n \\n \\n\\n\\n                  \\n1 \\n\\n\\n \\n\\n\\...</td>\n",
       "      <td>[EMPTY]</td>\n",
       "      <td>895; 1009</td>\n",
       "      <td>Despacho disponibilizado no DEJT.; Negado prov...</td>\n",
       "      <td>Agravante:BANCO BRADESCO S.A. E OUTRO\\nAdvogad...</td>\n",
       "      <td>None</td>\n",
       "      <td>-3,-3,91296897087,91296897087</td>\n",
       "      <td>60746948000112,60746948000112,-3,-3</td>\n",
       "    </tr>\n",
       "    <tr>\n",
       "      <th>1</th>\n",
       "      <td>0000001-16.2019.5.05.0014</td>\n",
       "      <td>2022,0</td>\n",
       "      <td>2022/03/22 12:01:37.000000000</td>\n",
       "      <td>BANCO SANTANDER ( BRASIL ) S. A.\\nROSILDA DOS ...</td>\n",
       "      <td>BANCO SANTANDER ( BRASIL ) S. A.</td>\n",
       "      <td>ROSILDA DOS ANJOS SANTANA TEIXEIRA</td>\n",
       "      <td>João Ribeiro Porto\\nJosé Eymard Loguercio\\nLua...</td>\n",
       "      <td>Multa Cominatória / Astreintes\\nNegativa de Pr...</td>\n",
       "      <td>Problemas em arestos\\nReexame de fatos e provas</td>\n",
       "      <td>\\n\\n\\t\\n\\t\\t\\t\\t\\n\\t\\t\\t\\t\\t\\t[image: brasão]\\...</td>\n",
       "      <td>\\n \\n\\n \\n\\n\\nEXCELENTÍSSIMO SENHOR DOUTOR DES...</td>\n",
       "      <td>\\n \\n\\n \\n\\n\\nEXCELENTÍSSIMO(A) SENHOR(A) DOUT...</td>\n",
       "      <td>[EMPTY]</td>\n",
       "      <td>1054</td>\n",
       "      <td>Negado seguimento ao recurso, por ausência de ...</td>\n",
       "      <td>Agravante:BANCO SANTANDER (BRASIL) S.A.\\nAdvog...</td>\n",
       "      <td>None</td>\n",
       "      <td>-3,-3,-3,-3,78455669500,78455669500</td>\n",
       "      <td>90400888000142,90400888000142,90400888000142,9...</td>\n",
       "    </tr>\n",
       "    <tr>\n",
       "      <th>2</th>\n",
       "      <td>0000001-37.2021.5.20.0011</td>\n",
       "      <td>2022,0</td>\n",
       "      <td>2022/04/28 07:30:38.000000000</td>\n",
       "      <td>JOSE SEVERO DE SOUZA\\nMOSAIC FERTILIZANTES P&amp;K...</td>\n",
       "      <td>VALE S.A.</td>\n",
       "      <td>JOSE SEVERO DE SOUZA\\nMOSAIC FERTILIZANTES P&amp;K...</td>\n",
       "      <td>Carlos Eduardo Reis Cleto\\nNilton Correia\\nLil...</td>\n",
       "      <td>Sem Valor</td>\n",
       "      <td>Sem Valor</td>\n",
       "      <td>\\nPODER JUDICIÁRIO \\nJUSTIÇA DO TRABALHO \\nTRI...</td>\n",
       "      <td>\\n \\n\\n1 \\nSERGIPE PERNAMBUCO ALAGOAS         ...</td>\n",
       "      <td>\\n \\n\\nSERGIPE PERNAMBUCO ALAGOAS             ...</td>\n",
       "      <td>[EMPTY]</td>\n",
       "      <td>1054</td>\n",
       "      <td>Negado seguimento ao recurso, por ausência de ...</td>\n",
       "      <td>[EMPTY]</td>\n",
       "      <td>None</td>\n",
       "      <td>-3,-3,65964772404</td>\n",
       "      <td>33592510000154,33931486000130,-3</td>\n",
       "    </tr>\n",
       "  </tbody>\n",
       "</table>\n",
       "</div>"
      ],
      "text/plain": [
       "             NUMERO_PROCESSO     ANO                    DTA_ENTRADA  \\\n",
       "0  0000001-04.2018.5.04.0103  2020,0  2020/04/07 03:34:33.000000000   \n",
       "1  0000001-16.2019.5.05.0014  2022,0  2022/03/22 12:01:37.000000000   \n",
       "2  0000001-37.2021.5.20.0011  2022,0  2022/04/28 07:30:38.000000000   \n",
       "\n",
       "                                              PARTES  \\\n",
       "0   ANDERSON MADRUGA DE QUADROS\\nBANCO BRADESCO S.A.   \n",
       "1  BANCO SANTANDER ( BRASIL ) S. A.\\nROSILDA DOS ...   \n",
       "2  JOSE SEVERO DE SOUZA\\nMOSAIC FERTILIZANTES P&K...   \n",
       "\n",
       "                     PARTES_AUTORAS  \\\n",
       "0               BANCO BRADESCO S.A.   \n",
       "1  BANCO SANTANDER ( BRASIL ) S. A.   \n",
       "2                         VALE S.A.   \n",
       "\n",
       "                                          PARTES_RES  \\\n",
       "0                        ANDERSON MADRUGA DE QUADROS   \n",
       "1                 ROSILDA DOS ANJOS SANTANA TEIXEIRA   \n",
       "2  JOSE SEVERO DE SOUZA\\nMOSAIC FERTILIZANTES P&K...   \n",
       "\n",
       "                                           ADVOGADOS  \\\n",
       "0      André Rodigheri\\nMozart Victor Russomano Neto   \n",
       "1  João Ribeiro Porto\\nJosé Eymard Loguercio\\nLua...   \n",
       "2  Carlos Eduardo Reis Cleto\\nNilton Correia\\nLil...   \n",
       "\n",
       "                                            ASSUNTOS  \\\n",
       "0                                 Correção Monetária   \n",
       "1  Multa Cominatória / Astreintes\\nNegativa de Pr...   \n",
       "2                                          Sem Valor   \n",
       "\n",
       "                                    FUNDAMENTACOES  \\\n",
       "0                              Análise prejudicada   \n",
       "1  Problemas em arestos\\nReexame de fatos e provas   \n",
       "2                                        Sem Valor   \n",
       "\n",
       "                                     ADMISSIBILIDADE  \\\n",
       "0  \\n\\n\\t\\n\\t\\t\\t\\t\\n\\t\\t\\t\\t\\t\\t[image: brasão]\\...   \n",
       "1  \\n\\n\\t\\n\\t\\t\\t\\t\\n\\t\\t\\t\\t\\t\\t[image: brasão]\\...   \n",
       "2  \\nPODER JUDICIÁRIO \\nJUSTIÇA DO TRABALHO \\nTRI...   \n",
       "\n",
       "                                     RECURSO_REVISTA  \\\n",
       "0  \\n \\n\\n \\n\\n\\nEXCELENTÍSSIMO(A) SENHOR(A) DESE...   \n",
       "1  \\n \\n\\n \\n\\n\\nEXCELENTÍSSIMO SENHOR DOUTOR DES...   \n",
       "2  \\n \\n\\n1 \\nSERGIPE PERNAMBUCO ALAGOAS         ...   \n",
       "\n",
       "                                                AIRR  ACORDAO CODIGO_DECISAO  \\\n",
       "0  \\n \\n \\n\\n\\n                  \\n1 \\n\\n\\n \\n\\n\\...  [EMPTY]      895; 1009   \n",
       "1  \\n \\n\\n \\n\\n\\nEXCELENTÍSSIMO(A) SENHOR(A) DOUT...  [EMPTY]           1054   \n",
       "2  \\n \\n\\nSERGIPE PERNAMBUCO ALAGOAS             ...  [EMPTY]           1054   \n",
       "\n",
       "                                   DESCRICAO_DECISAO  \\\n",
       "0  Despacho disponibilizado no DEJT.; Negado prov...   \n",
       "1  Negado seguimento ao recurso, por ausência de ...   \n",
       "2  Negado seguimento ao recurso, por ausência de ...   \n",
       "\n",
       "                                             DECISAO DESPACHO  \\\n",
       "0  Agravante:BANCO BRADESCO S.A. E OUTRO\\nAdvogad...     None   \n",
       "1  Agravante:BANCO SANTANDER (BRASIL) S.A.\\nAdvog...     None   \n",
       "2                                            [EMPTY]     None   \n",
       "\n",
       "                            CPF_PARTES  \\\n",
       "0        -3,-3,91296897087,91296897087   \n",
       "1  -3,-3,-3,-3,78455669500,78455669500   \n",
       "2                    -3,-3,65964772404   \n",
       "\n",
       "                                         CNPJ_PARTES  \n",
       "0                60746948000112,60746948000112,-3,-3  \n",
       "1  90400888000142,90400888000142,90400888000142,9...  \n",
       "2                   33592510000154,33931486000130,-3  "
      ]
     },
     "execution_count": 32,
     "metadata": {},
     "output_type": "execute_result"
    }
   ],
   "source": [
    "df.head(3)"
   ]
  },
  {
   "cell_type": "code",
   "execution_count": 33,
   "metadata": {},
   "outputs": [],
   "source": [
    "def transform_TST_df(df):\n",
    "    data = []\n",
    "    for row in df.itertuples():\n",
    "        if row.ADMISSIBILIDADE != '[EMPTY]':\n",
    "            data.append([row.NUMERO_PROCESSO, row.ADMISSIBILIDADE, 'ADMISSIBILIDADE', 'julgados_GMALR', 'TST']) \n",
    "        if row.RECURSO_REVISTA != '[EMPTY]':\n",
    "            data.append([row.NUMERO_PROCESSO,row.RECURSO_REVISTA, 'RR', 'julgados_GMALR', 'TST']) \n",
    "        if row.AIRR != '[EMPTY]':\n",
    "            data.append([row.NUMERO_PROCESSO,row.AIRR, 'AIRR', 'julgados_GMALR', 'TST']) \n",
    "        if row.ACORDAO != '[EMPTY]':\n",
    "            data.append([row.NUMERO_PROCESSO,row.ACORDAO, 'ACORDAO', 'julgados_GMALR', 'TST']) \n",
    "        if row.DECISAO != '[EMPTY]':   \n",
    "            data.append([row.NUMERO_PROCESSO,row.DECISAO, 'DECISAO', 'julgados_GMALR', 'TST'])\n",
    "    return data"
   ]
  },
  {
   "cell_type": "code",
   "execution_count": 34,
   "metadata": {},
   "outputs": [
    {
     "data": {
      "text/html": [
       "<div>\n",
       "<style scoped>\n",
       "    .dataframe tbody tr th:only-of-type {\n",
       "        vertical-align: middle;\n",
       "    }\n",
       "\n",
       "    .dataframe tbody tr th {\n",
       "        vertical-align: top;\n",
       "    }\n",
       "\n",
       "    .dataframe thead th {\n",
       "        text-align: right;\n",
       "    }\n",
       "</style>\n",
       "<table border=\"1\" class=\"dataframe\">\n",
       "  <thead>\n",
       "    <tr style=\"text-align: right;\">\n",
       "      <th></th>\n",
       "      <th>NUMERO_PROCESSO</th>\n",
       "      <th>TXT</th>\n",
       "      <th>COLUMN</th>\n",
       "      <th>ARQUIVO_ORIGEM</th>\n",
       "      <th>CORTE</th>\n",
       "    </tr>\n",
       "  </thead>\n",
       "  <tbody>\n",
       "    <tr>\n",
       "      <th>0</th>\n",
       "      <td>0000001-04.2018.5.04.0103</td>\n",
       "      <td>\\n\\n\\t\\n\\t\\t\\t\\t\\n\\t\\t\\t\\t\\t\\t[image: brasão]\\...</td>\n",
       "      <td>ADMISSIBILIDADE</td>\n",
       "      <td>julgados_GMALR</td>\n",
       "      <td>TST</td>\n",
       "    </tr>\n",
       "    <tr>\n",
       "      <th>1</th>\n",
       "      <td>0000001-04.2018.5.04.0103</td>\n",
       "      <td>\\n \\n\\n \\n\\n\\nEXCELENTÍSSIMO(A) SENHOR(A) DESE...</td>\n",
       "      <td>RR</td>\n",
       "      <td>julgados_GMALR</td>\n",
       "      <td>TST</td>\n",
       "    </tr>\n",
       "    <tr>\n",
       "      <th>2</th>\n",
       "      <td>0000001-04.2018.5.04.0103</td>\n",
       "      <td>\\n \\n \\n\\n\\n                  \\n1 \\n\\n\\n \\n\\n\\...</td>\n",
       "      <td>AIRR</td>\n",
       "      <td>julgados_GMALR</td>\n",
       "      <td>TST</td>\n",
       "    </tr>\n",
       "    <tr>\n",
       "      <th>3</th>\n",
       "      <td>0000001-04.2018.5.04.0103</td>\n",
       "      <td>Agravante:BANCO BRADESCO S.A. E OUTRO\\nAdvogad...</td>\n",
       "      <td>DECISAO</td>\n",
       "      <td>julgados_GMALR</td>\n",
       "      <td>TST</td>\n",
       "    </tr>\n",
       "    <tr>\n",
       "      <th>4</th>\n",
       "      <td>0000001-16.2019.5.05.0014</td>\n",
       "      <td>\\n\\n\\t\\n\\t\\t\\t\\t\\n\\t\\t\\t\\t\\t\\t[image: brasão]\\...</td>\n",
       "      <td>ADMISSIBILIDADE</td>\n",
       "      <td>julgados_GMALR</td>\n",
       "      <td>TST</td>\n",
       "    </tr>\n",
       "  </tbody>\n",
       "</table>\n",
       "</div>"
      ],
      "text/plain": [
       "             NUMERO_PROCESSO  \\\n",
       "0  0000001-04.2018.5.04.0103   \n",
       "1  0000001-04.2018.5.04.0103   \n",
       "2  0000001-04.2018.5.04.0103   \n",
       "3  0000001-04.2018.5.04.0103   \n",
       "4  0000001-16.2019.5.05.0014   \n",
       "\n",
       "                                                 TXT           COLUMN  \\\n",
       "0  \\n\\n\\t\\n\\t\\t\\t\\t\\n\\t\\t\\t\\t\\t\\t[image: brasão]\\...  ADMISSIBILIDADE   \n",
       "1  \\n \\n\\n \\n\\n\\nEXCELENTÍSSIMO(A) SENHOR(A) DESE...               RR   \n",
       "2  \\n \\n \\n\\n\\n                  \\n1 \\n\\n\\n \\n\\n\\...             AIRR   \n",
       "3  Agravante:BANCO BRADESCO S.A. E OUTRO\\nAdvogad...          DECISAO   \n",
       "4  \\n\\n\\t\\n\\t\\t\\t\\t\\n\\t\\t\\t\\t\\t\\t[image: brasão]\\...  ADMISSIBILIDADE   \n",
       "\n",
       "   ARQUIVO_ORIGEM CORTE  \n",
       "0  julgados_GMALR   TST  \n",
       "1  julgados_GMALR   TST  \n",
       "2  julgados_GMALR   TST  \n",
       "3  julgados_GMALR   TST  \n",
       "4  julgados_GMALR   TST  "
      ]
     },
     "execution_count": 34,
     "metadata": {},
     "output_type": "execute_result"
    }
   ],
   "source": [
    "df_interm = pd.DataFrame(transform_TST_df(df), columns=['NUMERO_PROCESSO', 'TXT', 'COLUMN', 'ARQUIVO_ORIGEM','CORTE']); df_interm.head()"
   ]
  },
  {
   "cell_type": "code",
   "execution_count": 37,
   "metadata": {},
   "outputs": [
    {
     "name": "stdout",
     "output_type": "stream",
     "text": [
      "outs:\n",
      "- md5: c94dee74fe005d10656a48787ad1a0c3\n",
      "  size: 530362001\n",
      "  path: data_v2.parquet\n"
     ]
    }
   ],
   "source": [
    "#df = pd.read_parquet('/mnt/home/fabraz/code/CNJ/prec_qualif/data/interim/data_v2_indicacao_prec_regex.parquet'); df\n",
    "!cat /mnt/home/fabraz/code/CNJ/prec_qualif/data/interim/data_v2.parquet.dvc"
   ]
  },
  {
   "cell_type": "code",
   "execution_count": 230,
   "metadata": {},
   "outputs": [],
   "source": [
    "path = '/mnt/nas/cnj-pnud_dados/'"
   ]
  },
  {
   "cell_type": "code",
   "execution_count": 231,
   "metadata": {},
   "outputs": [],
   "source": [
    "file_path = get_file_path('c94dee74fe005d10656a48787ad1a0c3')"
   ]
  },
  {
   "cell_type": "code",
   "execution_count": 232,
   "metadata": {},
   "outputs": [],
   "source": [
    "df = pd.read_parquet(path+file_path)"
   ]
  },
  {
   "cell_type": "code",
   "execution_count": 233,
   "metadata": {},
   "outputs": [
    {
     "data": {
      "text/plain": [
       "Tribunal de Justiça do Estado de Rondônia       27361\n",
       "Tribunal Regional Federal da Terceira Região      202\n",
       "Name: origem_sigla, dtype: int64"
      ]
     },
     "execution_count": 233,
     "metadata": {},
     "output_type": "execute_result"
    }
   ],
   "source": [
    "df.origem_sigla.value_counts()"
   ]
  },
  {
   "cell_type": "code",
   "execution_count": 234,
   "metadata": {},
   "outputs": [],
   "source": [
    "def transform_CNJ_df(df):\n",
    "    data = []\n",
    "    for row in df.itertuples():\n",
    "        corte = None\n",
    "        if row.origem_sigla == 'Tribunal de Justiça do Estado de Rondônia':\n",
    "            corte = 'TJRR'\n",
    "        else:\n",
    "            corte = 'TRF3'\n",
    "#        if row.ADMISSIBILIDADE != '[EMPTY]':\n",
    "        if len(row.inicial_process_text) > 20:\n",
    "            data.append([row.numero, row.inicial_process_text, 'inicial_process_text', 'data_v2.parquet', corte]) \n",
    "        if len(row.sentenca_text) > 20:\n",
    "            data.append([row.numero, row.sentenca_text, 'sentenca_text', 'data_v2.parquet', corte]) \n",
    "        if row.contestacao_text is not None and len(row.sentenca_text) > 20:\n",
    "            data.append([row.numero, row.contestacao_text, 'contestacao_text', 'data_v2.parquet', corte]) \n",
    "    return data"
   ]
  },
  {
   "cell_type": "code",
   "execution_count": 235,
   "metadata": {},
   "outputs": [
    {
     "data": {
      "text/html": [
       "<div>\n",
       "<style scoped>\n",
       "    .dataframe tbody tr th:only-of-type {\n",
       "        vertical-align: middle;\n",
       "    }\n",
       "\n",
       "    .dataframe tbody tr th {\n",
       "        vertical-align: top;\n",
       "    }\n",
       "\n",
       "    .dataframe thead th {\n",
       "        text-align: right;\n",
       "    }\n",
       "</style>\n",
       "<table border=\"1\" class=\"dataframe\">\n",
       "  <thead>\n",
       "    <tr style=\"text-align: right;\">\n",
       "      <th></th>\n",
       "      <th>NUMERO_PROCESSO</th>\n",
       "      <th>TXT</th>\n",
       "      <th>COLUMN</th>\n",
       "      <th>ARQUIVO_ORIGEM</th>\n",
       "      <th>CORTE</th>\n",
       "    </tr>\n",
       "  </thead>\n",
       "  <tbody>\n",
       "    <tr>\n",
       "      <th>0</th>\n",
       "      <td>7007776-24.2020.8.22.0007</td>\n",
       "      <td>Ss\\n\\nDV Ac\\n\\nJEAN DE JESUS SILVA\\n\\nEXCELENT...</td>\n",
       "      <td>inicial_process_text</td>\n",
       "      <td>data_v2.parquet</td>\n",
       "      <td>TJRR</td>\n",
       "    </tr>\n",
       "    <tr>\n",
       "      <th>1</th>\n",
       "      <td>7007776-24.2020.8.22.0007</td>\n",
       "      <td>\\nPODER JUDICIÁRIO DO ESTADO DE RONDÔNIA\\n \\n ...</td>\n",
       "      <td>sentenca_text</td>\n",
       "      <td>data_v2.parquet</td>\n",
       "      <td>TJRR</td>\n",
       "    </tr>\n",
       "    <tr>\n",
       "      <th>2</th>\n",
       "      <td>7010905-52.2020.8.22.0002</td>\n",
       "      <td>\\nMUNICÍPIO DE ARIQUEMES\\nPREF. MUNICIPAL DE A...</td>\n",
       "      <td>inicial_process_text</td>\n",
       "      <td>data_v2.parquet</td>\n",
       "      <td>TJRR</td>\n",
       "    </tr>\n",
       "    <tr>\n",
       "      <th>3</th>\n",
       "      <td>7010905-52.2020.8.22.0002</td>\n",
       "      <td>\\nPODER JUDICIÁRIO DO ESTADO DE RONDÔNIA \\n Tr...</td>\n",
       "      <td>sentenca_text</td>\n",
       "      <td>data_v2.parquet</td>\n",
       "      <td>TJRR</td>\n",
       "    </tr>\n",
       "    <tr>\n",
       "      <th>4</th>\n",
       "      <td>7010790-31.2020.8.22.0002</td>\n",
       "      <td>\\nMUNICÍPIO DE ARIQUEMES\\nPREF. MUNICIPAL DE A...</td>\n",
       "      <td>inicial_process_text</td>\n",
       "      <td>data_v2.parquet</td>\n",
       "      <td>TJRR</td>\n",
       "    </tr>\n",
       "  </tbody>\n",
       "</table>\n",
       "</div>"
      ],
      "text/plain": [
       "             NUMERO_PROCESSO  \\\n",
       "0  7007776-24.2020.8.22.0007   \n",
       "1  7007776-24.2020.8.22.0007   \n",
       "2  7010905-52.2020.8.22.0002   \n",
       "3  7010905-52.2020.8.22.0002   \n",
       "4  7010790-31.2020.8.22.0002   \n",
       "\n",
       "                                                 TXT                COLUMN  \\\n",
       "0  Ss\\n\\nDV Ac\\n\\nJEAN DE JESUS SILVA\\n\\nEXCELENT...  inicial_process_text   \n",
       "1  \\nPODER JUDICIÁRIO DO ESTADO DE RONDÔNIA\\n \\n ...         sentenca_text   \n",
       "2  \\nMUNICÍPIO DE ARIQUEMES\\nPREF. MUNICIPAL DE A...  inicial_process_text   \n",
       "3  \\nPODER JUDICIÁRIO DO ESTADO DE RONDÔNIA \\n Tr...         sentenca_text   \n",
       "4  \\nMUNICÍPIO DE ARIQUEMES\\nPREF. MUNICIPAL DE A...  inicial_process_text   \n",
       "\n",
       "    ARQUIVO_ORIGEM CORTE  \n",
       "0  data_v2.parquet  TJRR  \n",
       "1  data_v2.parquet  TJRR  \n",
       "2  data_v2.parquet  TJRR  \n",
       "3  data_v2.parquet  TJRR  \n",
       "4  data_v2.parquet  TJRR  "
      ]
     },
     "execution_count": 235,
     "metadata": {},
     "output_type": "execute_result"
    }
   ],
   "source": [
    "df_interm2 = pd.DataFrame(transform_CNJ_df(df), columns=['NUMERO_PROCESSO', 'TXT', 'COLUMN', 'ARQUIVO_ORIGEM','CORTE']); df_interm2.head()"
   ]
  },
  {
   "cell_type": "code",
   "execution_count": 236,
   "metadata": {},
   "outputs": [
    {
     "data": {
      "text/html": [
       "<div>\n",
       "<style scoped>\n",
       "    .dataframe tbody tr th:only-of-type {\n",
       "        vertical-align: middle;\n",
       "    }\n",
       "\n",
       "    .dataframe tbody tr th {\n",
       "        vertical-align: top;\n",
       "    }\n",
       "\n",
       "    .dataframe thead th {\n",
       "        text-align: right;\n",
       "    }\n",
       "</style>\n",
       "<table border=\"1\" class=\"dataframe\">\n",
       "  <thead>\n",
       "    <tr style=\"text-align: right;\">\n",
       "      <th></th>\n",
       "      <th>NUMERO_PROCESSO</th>\n",
       "      <th>TXT</th>\n",
       "      <th>COLUMN</th>\n",
       "      <th>ARQUIVO_ORIGEM</th>\n",
       "      <th>CORTE</th>\n",
       "    </tr>\n",
       "  </thead>\n",
       "  <tbody>\n",
       "    <tr>\n",
       "      <th>0</th>\n",
       "      <td>0000001-04.2018.5.04.0103</td>\n",
       "      <td>\\n\\n\\t\\n\\t\\t\\t\\t\\n\\t\\t\\t\\t\\t\\t[image: brasão]\\...</td>\n",
       "      <td>ADMISSIBILIDADE</td>\n",
       "      <td>julgados_GMALR</td>\n",
       "      <td>TST</td>\n",
       "    </tr>\n",
       "    <tr>\n",
       "      <th>1</th>\n",
       "      <td>0000001-04.2018.5.04.0103</td>\n",
       "      <td>\\n \\n\\n \\n\\n\\nEXCELENTÍSSIMO(A) SENHOR(A) DESE...</td>\n",
       "      <td>RR</td>\n",
       "      <td>julgados_GMALR</td>\n",
       "      <td>TST</td>\n",
       "    </tr>\n",
       "    <tr>\n",
       "      <th>2</th>\n",
       "      <td>0000001-04.2018.5.04.0103</td>\n",
       "      <td>\\n \\n \\n\\n\\n                  \\n1 \\n\\n\\n \\n\\n\\...</td>\n",
       "      <td>AIRR</td>\n",
       "      <td>julgados_GMALR</td>\n",
       "      <td>TST</td>\n",
       "    </tr>\n",
       "    <tr>\n",
       "      <th>3</th>\n",
       "      <td>0000001-04.2018.5.04.0103</td>\n",
       "      <td>Agravante:BANCO BRADESCO S.A. E OUTRO\\nAdvogad...</td>\n",
       "      <td>DECISAO</td>\n",
       "      <td>julgados_GMALR</td>\n",
       "      <td>TST</td>\n",
       "    </tr>\n",
       "    <tr>\n",
       "      <th>4</th>\n",
       "      <td>0000001-16.2019.5.05.0014</td>\n",
       "      <td>\\n\\n\\t\\n\\t\\t\\t\\t\\n\\t\\t\\t\\t\\t\\t[image: brasão]\\...</td>\n",
       "      <td>ADMISSIBILIDADE</td>\n",
       "      <td>julgados_GMALR</td>\n",
       "      <td>TST</td>\n",
       "    </tr>\n",
       "    <tr>\n",
       "      <th>...</th>\n",
       "      <td>...</td>\n",
       "      <td>...</td>\n",
       "      <td>...</td>\n",
       "      <td>...</td>\n",
       "      <td>...</td>\n",
       "    </tr>\n",
       "    <tr>\n",
       "      <th>63941</th>\n",
       "      <td>5002563-97.2019.4.03.6141</td>\n",
       "      <td>ADVOCACIA PREVIDENCIÁRIA \\n\\nEXCELENTÍSSIMO (A...</td>\n",
       "      <td>inicial_process_text</td>\n",
       "      <td>data_v2.parquet</td>\n",
       "      <td>TRF3</td>\n",
       "    </tr>\n",
       "    <tr>\n",
       "      <th>63942</th>\n",
       "      <td>5002563-97.2019.4.03.6141</td>\n",
       "      <td>Poder Judiciário\\nJUSTIÇA FEDERAL DE PRIMEIRO ...</td>\n",
       "      <td>sentenca_text</td>\n",
       "      <td>data_v2.parquet</td>\n",
       "      <td>TRF3</td>\n",
       "    </tr>\n",
       "    <tr>\n",
       "      <th>63943</th>\n",
       "      <td>5020166-91.2018.4.03.6183</td>\n",
       "      <td>Ro Xuiz Coreto\\n\\n— ADVOCACIA\\n\\n\\n\\nEXCELENTÍ...</td>\n",
       "      <td>inicial_process_text</td>\n",
       "      <td>data_v2.parquet</td>\n",
       "      <td>TRF3</td>\n",
       "    </tr>\n",
       "    <tr>\n",
       "      <th>63944</th>\n",
       "      <td>5020166-91.2018.4.03.6183</td>\n",
       "      <td>Poder Judiciário\\nJUSTIÇA FEDERAL DE PRIMEIRO ...</td>\n",
       "      <td>sentenca_text</td>\n",
       "      <td>data_v2.parquet</td>\n",
       "      <td>TRF3</td>\n",
       "    </tr>\n",
       "    <tr>\n",
       "      <th>63945</th>\n",
       "      <td>5020166-91.2018.4.03.6183</td>\n",
       "      <td>\\nADVOCACIA-GERAL DA UNIÃƒO\\nPROCURADORIA-GERA...</td>\n",
       "      <td>contestacao_text</td>\n",
       "      <td>data_v2.parquet</td>\n",
       "      <td>TRF3</td>\n",
       "    </tr>\n",
       "  </tbody>\n",
       "</table>\n",
       "<p>176156 rows × 5 columns</p>\n",
       "</div>"
      ],
      "text/plain": [
       "                 NUMERO_PROCESSO  \\\n",
       "0      0000001-04.2018.5.04.0103   \n",
       "1      0000001-04.2018.5.04.0103   \n",
       "2      0000001-04.2018.5.04.0103   \n",
       "3      0000001-04.2018.5.04.0103   \n",
       "4      0000001-16.2019.5.05.0014   \n",
       "...                          ...   \n",
       "63941  5002563-97.2019.4.03.6141   \n",
       "63942  5002563-97.2019.4.03.6141   \n",
       "63943  5020166-91.2018.4.03.6183   \n",
       "63944  5020166-91.2018.4.03.6183   \n",
       "63945  5020166-91.2018.4.03.6183   \n",
       "\n",
       "                                                     TXT  \\\n",
       "0      \\n\\n\\t\\n\\t\\t\\t\\t\\n\\t\\t\\t\\t\\t\\t[image: brasão]\\...   \n",
       "1      \\n \\n\\n \\n\\n\\nEXCELENTÍSSIMO(A) SENHOR(A) DESE...   \n",
       "2      \\n \\n \\n\\n\\n                  \\n1 \\n\\n\\n \\n\\n\\...   \n",
       "3      Agravante:BANCO BRADESCO S.A. E OUTRO\\nAdvogad...   \n",
       "4      \\n\\n\\t\\n\\t\\t\\t\\t\\n\\t\\t\\t\\t\\t\\t[image: brasão]\\...   \n",
       "...                                                  ...   \n",
       "63941  ADVOCACIA PREVIDENCIÁRIA \\n\\nEXCELENTÍSSIMO (A...   \n",
       "63942  Poder Judiciário\\nJUSTIÇA FEDERAL DE PRIMEIRO ...   \n",
       "63943  Ro Xuiz Coreto\\n\\n— ADVOCACIA\\n\\n\\n\\nEXCELENTÍ...   \n",
       "63944  Poder Judiciário\\nJUSTIÇA FEDERAL DE PRIMEIRO ...   \n",
       "63945  \\nADVOCACIA-GERAL DA UNIÃƒO\\nPROCURADORIA-GERA...   \n",
       "\n",
       "                     COLUMN   ARQUIVO_ORIGEM CORTE  \n",
       "0           ADMISSIBILIDADE   julgados_GMALR   TST  \n",
       "1                        RR   julgados_GMALR   TST  \n",
       "2                      AIRR   julgados_GMALR   TST  \n",
       "3                   DECISAO   julgados_GMALR   TST  \n",
       "4           ADMISSIBILIDADE   julgados_GMALR   TST  \n",
       "...                     ...              ...   ...  \n",
       "63941  inicial_process_text  data_v2.parquet  TRF3  \n",
       "63942         sentenca_text  data_v2.parquet  TRF3  \n",
       "63943  inicial_process_text  data_v2.parquet  TRF3  \n",
       "63944         sentenca_text  data_v2.parquet  TRF3  \n",
       "63945      contestacao_text  data_v2.parquet  TRF3  \n",
       "\n",
       "[176156 rows x 5 columns]"
      ]
     },
     "execution_count": 236,
     "metadata": {},
     "output_type": "execute_result"
    }
   ],
   "source": [
    "df = pd.concat([df_interm, df_interm2]); df"
   ]
  },
  {
   "cell_type": "code",
   "execution_count": 237,
   "metadata": {},
   "outputs": [],
   "source": [
    "#df"
   ]
  },
  {
   "cell_type": "code",
   "execution_count": 238,
   "metadata": {},
   "outputs": [],
   "source": [
    "def sample_equal(df, column, n=400, random_state=42):\n",
    "    samples = []\n",
    "    for corte in df[column].unique():\n",
    "        samples.append(df[df[column]==corte].sample(n=n,random_state=random_state))\n",
    "    return pd.concat(samples)"
   ]
  },
  {
   "cell_type": "code",
   "execution_count": 239,
   "metadata": {},
   "outputs": [
    {
     "data": {
      "text/html": [
       "<div>\n",
       "<style scoped>\n",
       "    .dataframe tbody tr th:only-of-type {\n",
       "        vertical-align: middle;\n",
       "    }\n",
       "\n",
       "    .dataframe tbody tr th {\n",
       "        vertical-align: top;\n",
       "    }\n",
       "\n",
       "    .dataframe thead th {\n",
       "        text-align: right;\n",
       "    }\n",
       "</style>\n",
       "<table border=\"1\" class=\"dataframe\">\n",
       "  <thead>\n",
       "    <tr style=\"text-align: right;\">\n",
       "      <th></th>\n",
       "      <th>NUMERO_PROCESSO</th>\n",
       "      <th>TXT</th>\n",
       "      <th>COLUMN</th>\n",
       "      <th>ARQUIVO_ORIGEM</th>\n",
       "      <th>CORTE</th>\n",
       "    </tr>\n",
       "  </thead>\n",
       "  <tbody>\n",
       "    <tr>\n",
       "      <th>88492</th>\n",
       "      <td>0100280-41.2018.5.01.0342</td>\n",
       "      <td>\\n    \\n      \\n        A C Ó R D Ã O\\n      \\...</td>\n",
       "      <td>ACORDAO</td>\n",
       "      <td>julgados_GMALR</td>\n",
       "      <td>TST</td>\n",
       "    </tr>\n",
       "    <tr>\n",
       "      <th>35563</th>\n",
       "      <td>0001606-71.2017.5.09.0073</td>\n",
       "      <td>\\nPoder Judiciário Justiça do Trabalho Tribuna...</td>\n",
       "      <td>DECISAO</td>\n",
       "      <td>julgados_GMALR</td>\n",
       "      <td>TST</td>\n",
       "    </tr>\n",
       "    <tr>\n",
       "      <th>54035</th>\n",
       "      <td>0010678-13.2017.5.15.0042</td>\n",
       "      <td>\\n\\n\\n\\n \\n \\n\\n\\n  \\n\\n\\n \\nAv. Presidente Va...</td>\n",
       "      <td>RR</td>\n",
       "      <td>julgados_GMALR</td>\n",
       "      <td>TST</td>\n",
       "    </tr>\n",
       "    <tr>\n",
       "      <th>57821</th>\n",
       "      <td>0010887-77.2020.5.18.0014</td>\n",
       "      <td>\\n\\n\\t\\n\\t\\t\\t\\t\\n\\t\\t\\t\\t\\t\\t[image: brasão]\\...</td>\n",
       "      <td>ADMISSIBILIDADE</td>\n",
       "      <td>julgados_GMALR</td>\n",
       "      <td>TST</td>\n",
       "    </tr>\n",
       "    <tr>\n",
       "      <th>63028</th>\n",
       "      <td>0011229-54.2021.5.18.0014</td>\n",
       "      <td>\\nPODER JUDICIÁRIO \\nJUSTIÇA DO TRABALHO \\nTRI...</td>\n",
       "      <td>ADMISSIBILIDADE</td>\n",
       "      <td>julgados_GMALR</td>\n",
       "      <td>TST</td>\n",
       "    </tr>\n",
       "    <tr>\n",
       "      <th>...</th>\n",
       "      <td>...</td>\n",
       "      <td>...</td>\n",
       "      <td>...</td>\n",
       "      <td>...</td>\n",
       "      <td>...</td>\n",
       "    </tr>\n",
       "    <tr>\n",
       "      <th>63810</th>\n",
       "      <td>5001223-32.2020.4.03.6126</td>\n",
       "      <td>Poder Judiciário\\nJUSTIÇA FEDERAL DE PRIMEIRO ...</td>\n",
       "      <td>sentenca_text</td>\n",
       "      <td>data_v2.parquet</td>\n",
       "      <td>TRF3</td>\n",
       "    </tr>\n",
       "    <tr>\n",
       "      <th>63928</th>\n",
       "      <td>5015990-35.2019.4.03.6183</td>\n",
       "      <td>EXCELENTÍSSIMO(A) SENHOR(A) DOUTOR(A) JUIZ(A) ...</td>\n",
       "      <td>inicial_process_text</td>\n",
       "      <td>data_v2.parquet</td>\n",
       "      <td>TRF3</td>\n",
       "    </tr>\n",
       "    <tr>\n",
       "      <th>63823</th>\n",
       "      <td>5000414-33.2020.4.03.6129</td>\n",
       "      <td>Poder Judiciário\\nJUSTIÇA FEDERAL DE PRIMEIRO ...</td>\n",
       "      <td>sentenca_text</td>\n",
       "      <td>data_v2.parquet</td>\n",
       "      <td>TRF3</td>\n",
       "    </tr>\n",
       "    <tr>\n",
       "      <th>63747</th>\n",
       "      <td>5011593-70.2019.4.03.6105</td>\n",
       "      <td>Poder Judiciário\\nJUSTIÇA FEDERAL DE PRIMEIRO ...</td>\n",
       "      <td>sentenca_text</td>\n",
       "      <td>data_v2.parquet</td>\n",
       "      <td>TRF3</td>\n",
       "    </tr>\n",
       "    <tr>\n",
       "      <th>63558</th>\n",
       "      <td>5018891-16.2019.4.03.6105</td>\n",
       "      <td>Poder Judiciário\\nJUSTIÇA FEDERAL DE PRIMEIRO ...</td>\n",
       "      <td>sentenca_text</td>\n",
       "      <td>data_v2.parquet</td>\n",
       "      <td>TRF3</td>\n",
       "    </tr>\n",
       "  </tbody>\n",
       "</table>\n",
       "<p>1200 rows × 5 columns</p>\n",
       "</div>"
      ],
      "text/plain": [
       "                 NUMERO_PROCESSO  \\\n",
       "88492  0100280-41.2018.5.01.0342   \n",
       "35563  0001606-71.2017.5.09.0073   \n",
       "54035  0010678-13.2017.5.15.0042   \n",
       "57821  0010887-77.2020.5.18.0014   \n",
       "63028  0011229-54.2021.5.18.0014   \n",
       "...                          ...   \n",
       "63810  5001223-32.2020.4.03.6126   \n",
       "63928  5015990-35.2019.4.03.6183   \n",
       "63823  5000414-33.2020.4.03.6129   \n",
       "63747  5011593-70.2019.4.03.6105   \n",
       "63558  5018891-16.2019.4.03.6105   \n",
       "\n",
       "                                                     TXT  \\\n",
       "88492  \\n    \\n      \\n        A C Ó R D Ã O\\n      \\...   \n",
       "35563  \\nPoder Judiciário Justiça do Trabalho Tribuna...   \n",
       "54035  \\n\\n\\n\\n \\n \\n\\n\\n  \\n\\n\\n \\nAv. Presidente Va...   \n",
       "57821  \\n\\n\\t\\n\\t\\t\\t\\t\\n\\t\\t\\t\\t\\t\\t[image: brasão]\\...   \n",
       "63028  \\nPODER JUDICIÁRIO \\nJUSTIÇA DO TRABALHO \\nTRI...   \n",
       "...                                                  ...   \n",
       "63810  Poder Judiciário\\nJUSTIÇA FEDERAL DE PRIMEIRO ...   \n",
       "63928  EXCELENTÍSSIMO(A) SENHOR(A) DOUTOR(A) JUIZ(A) ...   \n",
       "63823  Poder Judiciário\\nJUSTIÇA FEDERAL DE PRIMEIRO ...   \n",
       "63747  Poder Judiciário\\nJUSTIÇA FEDERAL DE PRIMEIRO ...   \n",
       "63558  Poder Judiciário\\nJUSTIÇA FEDERAL DE PRIMEIRO ...   \n",
       "\n",
       "                     COLUMN   ARQUIVO_ORIGEM CORTE  \n",
       "88492               ACORDAO   julgados_GMALR   TST  \n",
       "35563               DECISAO   julgados_GMALR   TST  \n",
       "54035                    RR   julgados_GMALR   TST  \n",
       "57821       ADMISSIBILIDADE   julgados_GMALR   TST  \n",
       "63028       ADMISSIBILIDADE   julgados_GMALR   TST  \n",
       "...                     ...              ...   ...  \n",
       "63810         sentenca_text  data_v2.parquet  TRF3  \n",
       "63928  inicial_process_text  data_v2.parquet  TRF3  \n",
       "63823         sentenca_text  data_v2.parquet  TRF3  \n",
       "63747         sentenca_text  data_v2.parquet  TRF3  \n",
       "63558         sentenca_text  data_v2.parquet  TRF3  \n",
       "\n",
       "[1200 rows x 5 columns]"
      ]
     },
     "execution_count": 239,
     "metadata": {},
     "output_type": "execute_result"
    }
   ],
   "source": [
    "df = sample_equal(df, 'CORTE', n=400); df"
   ]
  },
  {
   "cell_type": "code",
   "execution_count": 240,
   "metadata": {},
   "outputs": [
    {
     "data": {
      "text/html": [
       "<div>\n",
       "<style scoped>\n",
       "    .dataframe tbody tr th:only-of-type {\n",
       "        vertical-align: middle;\n",
       "    }\n",
       "\n",
       "    .dataframe tbody tr th {\n",
       "        vertical-align: top;\n",
       "    }\n",
       "\n",
       "    .dataframe thead th {\n",
       "        text-align: right;\n",
       "    }\n",
       "</style>\n",
       "<table border=\"1\" class=\"dataframe\">\n",
       "  <thead>\n",
       "    <tr style=\"text-align: right;\">\n",
       "      <th></th>\n",
       "      <th>CORTE</th>\n",
       "    </tr>\n",
       "  </thead>\n",
       "  <tbody>\n",
       "    <tr>\n",
       "      <th>TJRR</th>\n",
       "      <td>400</td>\n",
       "    </tr>\n",
       "    <tr>\n",
       "      <th>TST</th>\n",
       "      <td>400</td>\n",
       "    </tr>\n",
       "    <tr>\n",
       "      <th>TRF3</th>\n",
       "      <td>400</td>\n",
       "    </tr>\n",
       "  </tbody>\n",
       "</table>\n",
       "</div>"
      ],
      "text/plain": [
       "      CORTE\n",
       "TJRR    400\n",
       "TST     400\n",
       "TRF3    400"
      ]
     },
     "execution_count": 240,
     "metadata": {},
     "output_type": "execute_result"
    }
   ],
   "source": [
    "pd.DataFrame(df.CORTE.value_counts())"
   ]
  },
  {
   "cell_type": "code",
   "execution_count": 241,
   "metadata": {},
   "outputs": [],
   "source": [
    "import re\n",
    "def remove_extra_break_lines(text):\n",
    "    '''\n",
    "    remove extra breaklines from text, leaving with a single one\n",
    "    '''\n",
    "    _str = re.sub(r\"(\\s+\\n)+\",\"\\n\",text)\n",
    "    _str = re.sub(r\"^\\n+\",\"\",_str)\n",
    "    return _str"
   ]
  },
  {
   "cell_type": "code",
   "execution_count": 242,
   "metadata": {},
   "outputs": [],
   "source": [
    "inp = '\\n \\n\\n \\n\\n\\n 1 \\n\\n\\nEXMº(ª) SR.(ª) DR.(ª) JUÍZ(A) DESEMBARGADOR(A) VICE PRESIDENTE(A) DO TRIBUNAL REGIONAL DO TRABALHO DA QUINTA REGIÃO. \\n\\n\\n \\n\\n\\n \\n\\n\\n \\n\\n\\n \\n\\n\\n \\n\\n\\n \\n\\n\\n \\n\\n\\n \\n\\n\\n      CLEUNILDA JESUS SILVA, já \\ni\\n'\n",
    "\n",
    "out = ' 1\\nEXMº(ª) SR.(ª) DR.(ª) JUÍZ(A) DESEMBARGADOR(A) VICE PRESIDENTE(A) DO TRIBUNAL REGIONAL DO TRABALHO DA QUINTA REGIÃO.\\n      CLEUNILDA JESUS SILVA, já\\ni\\n'\n",
    "\n",
    "result = remove_extra_break_lines(inp)\n",
    "\n",
    "assert result == out, f'Test failed! For input: \\n{inp}\\nthe output should be: \\n{out}\\nbut comes:\\n{result}'"
   ]
  },
  {
   "cell_type": "code",
   "execution_count": 243,
   "metadata": {},
   "outputs": [],
   "source": [
    "df['TXT'] = df['TXT'].apply(remove_extra_break_lines)"
   ]
  },
  {
   "cell_type": "code",
   "execution_count": 244,
   "metadata": {},
   "outputs": [],
   "source": [
    "df.reset_index(inplace=True)"
   ]
  },
  {
   "cell_type": "code",
   "execution_count": 245,
   "metadata": {},
   "outputs": [
    {
     "data": {
      "text/html": [
       "<div>\n",
       "<style scoped>\n",
       "    .dataframe tbody tr th:only-of-type {\n",
       "        vertical-align: middle;\n",
       "    }\n",
       "\n",
       "    .dataframe tbody tr th {\n",
       "        vertical-align: top;\n",
       "    }\n",
       "\n",
       "    .dataframe thead th {\n",
       "        text-align: right;\n",
       "    }\n",
       "</style>\n",
       "<table border=\"1\" class=\"dataframe\">\n",
       "  <thead>\n",
       "    <tr style=\"text-align: right;\">\n",
       "      <th></th>\n",
       "      <th>index</th>\n",
       "      <th>NUMERO_PROCESSO</th>\n",
       "      <th>TXT</th>\n",
       "      <th>COLUMN</th>\n",
       "      <th>ARQUIVO_ORIGEM</th>\n",
       "      <th>CORTE</th>\n",
       "    </tr>\n",
       "  </thead>\n",
       "  <tbody>\n",
       "    <tr>\n",
       "      <th>0</th>\n",
       "      <td>88492</td>\n",
       "      <td>0100280-41.2018.5.01.0342</td>\n",
       "      <td>A C Ó R D Ã O\\n        4ª Turma\\n     ...</td>\n",
       "      <td>ACORDAO</td>\n",
       "      <td>julgados_GMALR</td>\n",
       "      <td>TST</td>\n",
       "    </tr>\n",
       "    <tr>\n",
       "      <th>1</th>\n",
       "      <td>35563</td>\n",
       "      <td>0001606-71.2017.5.09.0073</td>\n",
       "      <td>Poder Judiciário Justiça do Trabalho Tribunal ...</td>\n",
       "      <td>DECISAO</td>\n",
       "      <td>julgados_GMALR</td>\n",
       "      <td>TST</td>\n",
       "    </tr>\n",
       "    <tr>\n",
       "      <th>2</th>\n",
       "      <td>54035</td>\n",
       "      <td>0010678-13.2017.5.15.0042</td>\n",
       "      <td>Av. Presidente Vargas, n° 2001 - Cj.156 - Ribe...</td>\n",
       "      <td>RR</td>\n",
       "      <td>julgados_GMALR</td>\n",
       "      <td>TST</td>\n",
       "    </tr>\n",
       "    <tr>\n",
       "      <th>3</th>\n",
       "      <td>57821</td>\n",
       "      <td>0010887-77.2020.5.18.0014</td>\n",
       "      <td>\\t\\t\\t\\t\\t\\t[image: brasão]\\n\\t\\t\\t\\t\\t\\t\\tPOD...</td>\n",
       "      <td>ADMISSIBILIDADE</td>\n",
       "      <td>julgados_GMALR</td>\n",
       "      <td>TST</td>\n",
       "    </tr>\n",
       "    <tr>\n",
       "      <th>4</th>\n",
       "      <td>63028</td>\n",
       "      <td>0011229-54.2021.5.18.0014</td>\n",
       "      <td>PODER JUDICIÁRIO\\nJUSTIÇA DO TRABALHO\\nTRIBUNA...</td>\n",
       "      <td>ADMISSIBILIDADE</td>\n",
       "      <td>julgados_GMALR</td>\n",
       "      <td>TST</td>\n",
       "    </tr>\n",
       "    <tr>\n",
       "      <th>...</th>\n",
       "      <td>...</td>\n",
       "      <td>...</td>\n",
       "      <td>...</td>\n",
       "      <td>...</td>\n",
       "      <td>...</td>\n",
       "      <td>...</td>\n",
       "    </tr>\n",
       "    <tr>\n",
       "      <th>1195</th>\n",
       "      <td>63810</td>\n",
       "      <td>5001223-32.2020.4.03.6126</td>\n",
       "      <td>Poder Judiciário\\nJUSTIÇA FEDERAL DE PRIMEIRO ...</td>\n",
       "      <td>sentenca_text</td>\n",
       "      <td>data_v2.parquet</td>\n",
       "      <td>TRF3</td>\n",
       "    </tr>\n",
       "    <tr>\n",
       "      <th>1196</th>\n",
       "      <td>63928</td>\n",
       "      <td>5015990-35.2019.4.03.6183</td>\n",
       "      <td>EXCELENTÍSSIMO(A) SENHOR(A) DOUTOR(A) JUIZ(A) ...</td>\n",
       "      <td>inicial_process_text</td>\n",
       "      <td>data_v2.parquet</td>\n",
       "      <td>TRF3</td>\n",
       "    </tr>\n",
       "    <tr>\n",
       "      <th>1197</th>\n",
       "      <td>63823</td>\n",
       "      <td>5000414-33.2020.4.03.6129</td>\n",
       "      <td>Poder Judiciário\\nJUSTIÇA FEDERAL DE PRIMEIRO ...</td>\n",
       "      <td>sentenca_text</td>\n",
       "      <td>data_v2.parquet</td>\n",
       "      <td>TRF3</td>\n",
       "    </tr>\n",
       "    <tr>\n",
       "      <th>1198</th>\n",
       "      <td>63747</td>\n",
       "      <td>5011593-70.2019.4.03.6105</td>\n",
       "      <td>Poder Judiciário\\nJUSTIÇA FEDERAL DE PRIMEIRO ...</td>\n",
       "      <td>sentenca_text</td>\n",
       "      <td>data_v2.parquet</td>\n",
       "      <td>TRF3</td>\n",
       "    </tr>\n",
       "    <tr>\n",
       "      <th>1199</th>\n",
       "      <td>63558</td>\n",
       "      <td>5018891-16.2019.4.03.6105</td>\n",
       "      <td>Poder Judiciário\\nJUSTIÇA FEDERAL DE PRIMEIRO ...</td>\n",
       "      <td>sentenca_text</td>\n",
       "      <td>data_v2.parquet</td>\n",
       "      <td>TRF3</td>\n",
       "    </tr>\n",
       "  </tbody>\n",
       "</table>\n",
       "<p>1200 rows × 6 columns</p>\n",
       "</div>"
      ],
      "text/plain": [
       "      index            NUMERO_PROCESSO  \\\n",
       "0     88492  0100280-41.2018.5.01.0342   \n",
       "1     35563  0001606-71.2017.5.09.0073   \n",
       "2     54035  0010678-13.2017.5.15.0042   \n",
       "3     57821  0010887-77.2020.5.18.0014   \n",
       "4     63028  0011229-54.2021.5.18.0014   \n",
       "...     ...                        ...   \n",
       "1195  63810  5001223-32.2020.4.03.6126   \n",
       "1196  63928  5015990-35.2019.4.03.6183   \n",
       "1197  63823  5000414-33.2020.4.03.6129   \n",
       "1198  63747  5011593-70.2019.4.03.6105   \n",
       "1199  63558  5018891-16.2019.4.03.6105   \n",
       "\n",
       "                                                    TXT                COLUMN  \\\n",
       "0             A C Ó R D Ã O\\n        4ª Turma\\n     ...               ACORDAO   \n",
       "1     Poder Judiciário Justiça do Trabalho Tribunal ...               DECISAO   \n",
       "2     Av. Presidente Vargas, n° 2001 - Cj.156 - Ribe...                    RR   \n",
       "3     \\t\\t\\t\\t\\t\\t[image: brasão]\\n\\t\\t\\t\\t\\t\\t\\tPOD...       ADMISSIBILIDADE   \n",
       "4     PODER JUDICIÁRIO\\nJUSTIÇA DO TRABALHO\\nTRIBUNA...       ADMISSIBILIDADE   \n",
       "...                                                 ...                   ...   \n",
       "1195  Poder Judiciário\\nJUSTIÇA FEDERAL DE PRIMEIRO ...         sentenca_text   \n",
       "1196  EXCELENTÍSSIMO(A) SENHOR(A) DOUTOR(A) JUIZ(A) ...  inicial_process_text   \n",
       "1197  Poder Judiciário\\nJUSTIÇA FEDERAL DE PRIMEIRO ...         sentenca_text   \n",
       "1198  Poder Judiciário\\nJUSTIÇA FEDERAL DE PRIMEIRO ...         sentenca_text   \n",
       "1199  Poder Judiciário\\nJUSTIÇA FEDERAL DE PRIMEIRO ...         sentenca_text   \n",
       "\n",
       "       ARQUIVO_ORIGEM CORTE  \n",
       "0      julgados_GMALR   TST  \n",
       "1      julgados_GMALR   TST  \n",
       "2      julgados_GMALR   TST  \n",
       "3      julgados_GMALR   TST  \n",
       "4      julgados_GMALR   TST  \n",
       "...               ...   ...  \n",
       "1195  data_v2.parquet  TRF3  \n",
       "1196  data_v2.parquet  TRF3  \n",
       "1197  data_v2.parquet  TRF3  \n",
       "1198  data_v2.parquet  TRF3  \n",
       "1199  data_v2.parquet  TRF3  \n",
       "\n",
       "[1200 rows x 6 columns]"
      ]
     },
     "execution_count": 245,
     "metadata": {},
     "output_type": "execute_result"
    }
   ],
   "source": [
    "df"
   ]
  },
  {
   "cell_type": "code",
   "execution_count": 246,
   "metadata": {},
   "outputs": [],
   "source": [
    "df.to_parquet('../data/raw/df_origem_paragrafos.parquet')\n",
    "#df = df.iloc[:,1:]"
   ]
  },
  {
   "cell_type": "code",
   "execution_count": 247,
   "metadata": {},
   "outputs": [],
   "source": [
    "def get_samples_left(lines, spam, index):\n",
    "    left = index - spam if index - spam >=0 else 0\n",
    "    return ' '.join([item for item in lines[left:index]])\n",
    "\n",
    "def get_samples_right(lines, spam, index):\n",
    "    right = index + spam + 1 if index + spam + 1 < len(lines) else len(lines)-1\n",
    "    return ' '.join([item for item in lines[index+1:right]])\n",
    "\n",
    "samples = []\n",
    "for row in df.itertuples():\n",
    "    index = 1\n",
    "    lines = row.TXT.splitlines(True)    \n",
    "    spam = 3\n",
    "    while index < len(lines)-1:\n",
    "        samples.append([row.index, get_samples_left(lines, spam, index),lines[index], get_samples_right(lines, spam, index), index])\n",
    "        index += 1"
   ]
  },
  {
   "cell_type": "code",
   "execution_count": 248,
   "metadata": {},
   "outputs": [
    {
     "data": {
      "text/plain": [
       "294088"
      ]
     },
     "execution_count": 248,
     "metadata": {},
     "output_type": "execute_result"
    }
   ],
   "source": [
    "len(samples)"
   ]
  },
  {
   "cell_type": "code",
   "execution_count": 249,
   "metadata": {},
   "outputs": [],
   "source": [
    "from random import seed, sample\n",
    "seed(42)"
   ]
  },
  {
   "cell_type": "code",
   "execution_count": 262,
   "metadata": {},
   "outputs": [],
   "source": [
    "df_paragrafos = pd.DataFrame(sample(samples, 50*1000), columns=['index_texto_original','anterior', 'alvo', 'posterior', 'linha'])"
   ]
  },
  {
   "cell_type": "code",
   "execution_count": 251,
   "metadata": {},
   "outputs": [],
   "source": [
    "#df_amostras_paragrafos.to_parquet('../data/raw/df_paragrafos.parquet')"
   ]
  },
  {
   "cell_type": "code",
   "execution_count": 270,
   "metadata": {},
   "outputs": [],
   "source": [
    "def get_source_text(index, df_paragrafos, df_origem_paragrafos):\n",
    "    '''\n",
    "    Return the raw text as lf split array used to create paragraph sample\n",
    "    '''\n",
    "\n",
    "    index_texto_original = df_amostras_paragrafos.loc[index][0]\n",
    "    txt = df_origem_paragrafos[df_origem_paragrafos['index']==index_texto_original].iloc[0,2]\n",
    "    return txt"
   ]
  },
  {
   "cell_type": "code",
   "execution_count": 273,
   "metadata": {},
   "outputs": [
    {
     "data": {
      "text/plain": [
       "['de participar de audiências e apresentar defesa nos autos do processo nº 0024146-',\n",
       " '31.2014.8.22.0001, parte autora: SERGIO AURES BATISTA e réu: Banco do Brasil, excetuando-se',\n",
       " 'o poder de substabelecer para outrem.',\n",
       " 'São Paulo, 16 de março de 2015.',\n",
       " 'TATO PISSINI',\n",
       " 'SP 261.030',\n",
       " 'Baruet » SP | Ale',\n",
       " 'Rio Megros tál',\n",
       " '= Aiohiavllo » 64540 » FoneiFeme (IT) SB94 3800',\n",
       " '8180',\n",
       " 'SIGNORPÉis. smcMARQUESINI',\n",
       " 'g.; ui =;i u s',\n",
       " 'SUBSTABELECIMENTO',\n",
       " '(COM RESERVA DE PODERES)',\n",
       " 'Substabeleço, com reserva de iguais poderes, na pessoa de',\n",
       " 'CAROLINA GIOSCIA LEAL DE MELO, brasileira, advogada, inscrita na OAB/RO 2.592, com escritório',\n",
       " 'profissional à Rua Marechal Deodoro, 2712, Sala C, CEP: 76801260',\n",
       " '(69) 3229-2898/(59) 8444-7328, e-mail: carolinaleai.advocacia@gmaii.com, para o fim especifico',\n",
       " 'de participar de audiências e apresentar defesa nos autos do processo n9 0024146-',\n",
       " '31.2014.8.22.0001, parte autora: SERGIO AURES BATISTA e réu: Banco do Brasil, excetuando-se']"
      ]
     },
     "execution_count": 273,
     "metadata": {},
     "output_type": "execute_result"
    }
   ],
   "source": [
    "get_source_text(185, df_paragrafos, df).split('\\n')[10:30]"
   ]
  },
  {
   "cell_type": "markdown",
   "metadata": {},
   "source": [
    "### Carrega as amostras ja rotuladas e mostra a quantidade"
   ]
  },
  {
   "cell_type": "code",
   "execution_count": 81,
   "metadata": {},
   "outputs": [],
   "source": [
    "import os\n",
    "import json\n",
    "import pandas as pd\n",
    "import tabulate\n",
    "from IPython.display import HTML, display\n",
    "import ipywidgets as widgets\n",
    "from ipywidgets import interact, interact_manual, Button, HBox, VBox, Textarea, Layout, Box"
   ]
  },
  {
   "cell_type": "code",
   "execution_count": 82,
   "metadata": {},
   "outputs": [],
   "source": [
    "label_file_path = '../data/raw/labels.json'"
   ]
  },
  {
   "cell_type": "code",
   "execution_count": 83,
   "metadata": {},
   "outputs": [
    {
     "name": "stdout",
     "output_type": "stream",
     "text": [
      "2667\n"
     ]
    }
   ],
   "source": [
    "try:\n",
    "    with open(label_file_path) as json_file:\n",
    "        data = json.load(json_file)\n",
    "except:\n",
    "    print(\"An exception occurred when trying to open %s\" % label_file_path)\n",
    "    #print(e)\n",
    "    data = {}\n",
    "print(len(data.keys()))"
   ]
  },
  {
   "cell_type": "markdown",
   "metadata": {},
   "source": [
    "### Carrega dados sem pre-processamento"
   ]
  },
  {
   "cell_type": "code",
   "execution_count": 85,
   "metadata": {},
   "outputs": [
    {
     "name": "stdout",
     "output_type": "stream",
     "text": [
      "(50000, 5)\n"
     ]
    }
   ],
   "source": [
    "df_paragrafos = pd.read_parquet('../data/raw/df_paragrafos.parquet') \n",
    "print(df_raw.shape)"
   ]
  },
  {
   "cell_type": "code",
   "execution_count": 5,
   "metadata": {},
   "outputs": [],
   "source": [
    "# print(merge_columns(df_raw.iloc[44563,:]))"
   ]
  },
  {
   "cell_type": "markdown",
   "metadata": {},
   "source": [
    "### Filtra amostras de peças sem as rotuladas"
   ]
  },
  {
   "cell_type": "code",
   "execution_count": 88,
   "metadata": {},
   "outputs": [],
   "source": [
    "def df_to_table(table):\n",
    "    display(HTML(tabulate.tabulate(table, tablefmt='html')))\n",
    "    \n",
    "def merge_columns(row):\n",
    "    return row['anterior']+ '§'+row['alvo']+'§'+row['posterior']\n",
    "    \n",
    "def generate_sample(df_raw, data):\n",
    "    #remove already labeled sample\n",
    "#    print(df_raw.shape)\n",
    "    #print(data)\n",
    "    df_raw = df_raw.filter(items = set(df_raw.index) - set(data.keys()), axis=0)\n",
    "#    df_raw = df_raw[~df_raw.index.isin(list(map(int, data.keys())))]\n",
    "#    print(df_raw.shape)\n",
    "    sample = df_raw.sample(n=1,replace=True)\n",
    "    #display(sample)\n",
    "#    print(sample.text.iloc[0][-600:])    \n",
    "#    df_to_table(sample[['piece_id', 'text']].values.tolist())\n",
    "    return sample.index[0], merge_columns(sample.iloc[0,:])\n",
    "#    return df_raw, sample.piece_id.iloc[0]"
   ]
  },
  {
   "cell_type": "code",
   "execution_count": 264,
   "metadata": {},
   "outputs": [
    {
     "data": {
      "text/plain": [
       "(49798,\n",
       " 'teve ciência de que a transação abrangia o pedido de horas extras (diárias\\n e em ocorrências) e seus reflexos e, assim mesmo, deu quitação plena e\\n geral por esses objetos do pedido, o que resulta na extinção do feito, sem\\n§resolução do mérito, quanto ao pedido de horas extras diárias e por\\n§ocorrências fora do horário de expediente. Registre-se que não constam\\n ressalvas no termo de conciliação (v. item 4, fl. 19-verso), onde deveriam\\n constar as horas extras excedentes, mas de mesma origem daquelas\\n')"
      ]
     },
     "execution_count": 264,
     "metadata": {},
     "output_type": "execute_result"
    }
   ],
   "source": [
    "generate_sample(df_paragrafos, data)"
   ]
  },
  {
   "cell_type": "markdown",
   "metadata": {},
   "source": [
    "## Rotulação"
   ]
  },
  {
   "cell_type": "markdown",
   "metadata": {},
   "source": [
    "### Rotula Amotra"
   ]
  },
  {
   "cell_type": "code",
   "execution_count": 90,
   "metadata": {},
   "outputs": [],
   "source": [
    "def label_sample(id, label, data):\n",
    "    data[id] = label\n",
    "    print('label_sample ',id, label, len(data))\n",
    "    return data"
   ]
  },
  {
   "cell_type": "code",
   "execution_count": 91,
   "metadata": {},
   "outputs": [
    {
     "data": {
      "application/vnd.jupyter.widget-view+json": {
       "model_id": "8497c4525f0246e9bb65bec6e1ce2861",
       "version_major": 2,
       "version_minor": 0
      },
      "text/plain": [
       "HBox(children=(Button(description='QuebraPar_Arg', style=ButtonStyle()), Button(description='NaoQuebraPar_Arg'…"
      ]
     },
     "metadata": {},
     "output_type": "display_data"
    },
    {
     "data": {
      "application/vnd.jupyter.widget-view+json": {
       "model_id": "7ad290150e884bfc9254a329b8d9961e",
       "version_major": 2,
       "version_minor": 0
      },
      "text/plain": [
       "Textarea(value='HIPNet / DATAPREV - Empresa de Tecnologia e Informações da Previdência Social Páginafçde 1 “os…"
      ]
     },
     "metadata": {},
     "output_type": "display_data"
    }
   ],
   "source": [
    "thisandthat = ['QuebraPar_Arg', 'NaoQuebraPar_Arg','QuebraPar_NaoArg', 'NaoQuebraPar_NaoArg', 'Erro']\n",
    "\n",
    "sample_id, text = generate_sample(df_raw, data)\n",
    "\n",
    "switch = [Button(description=name) for name in thisandthat]\n",
    "\n",
    "sample = widgets.IntText(\n",
    "    value=sample_id,\n",
    "    description='sample_id:',\n",
    "    disabled=False\n",
    ")\n",
    "\n",
    "saveBtn = Button(description='Save')\n",
    "\n",
    "dataTextArea = Textarea(value=str(data),\n",
    "                            description='',\n",
    "                            rows=1,\n",
    "                            layout=Layout(width=\"auto\"))\n",
    "\n",
    "\n",
    "l = [items for items in switch]\n",
    "\n",
    "l.append(saveBtn)\n",
    "l.append(sample)\n",
    "\n",
    "combined = HBox(l)\n",
    "\n",
    "def save_clicked(btn):\n",
    "    with open('../data/raw/labels.json', 'w') as outfile:\n",
    "        json.dump(eval(dataTextArea.value), outfile)\n",
    "        print('file save')\n",
    "\n",
    "def upon_clicked(btn):\n",
    "    label = 0\n",
    "    if btn.description==thisandthat[0]:\n",
    "        label = 0\n",
    "    elif btn.description==thisandthat[1]:\n",
    "        label = 1\n",
    "    elif btn.description==thisandthat[2]:\n",
    "        label = 2        \n",
    "    elif btn.description==thisandthat[3]:\n",
    "        label = 3                \n",
    "    else:\n",
    "        label = -1 \n",
    "    \n",
    "    data = label_sample(sample.value, label, eval(dataTextArea.value))\n",
    "    sample_id, text = generate_sample(df_raw, data)\n",
    "    comm_text.value = text\n",
    "    comm_text.rows = 10\n",
    "    sample.value = sample_id\n",
    "    dataTextArea.value=str(data)\n",
    "\n",
    "for n in range(len(thisandthat)):\n",
    "    switch[n].on_click(upon_clicked)\n",
    "    \n",
    "saveBtn.on_click(save_clicked)\n",
    "\n",
    "display(combined)\n",
    "\n",
    "comm_text = Textarea(value=text,\n",
    "                            placeholder='OK',\n",
    "                            description='',\n",
    "                            rows=10,                            \n",
    "                            layout=Layout(width=\"auto\"))\n",
    "\n",
    "display(comm_text)"
   ]
  }
 ],
 "metadata": {
  "kernelspec": {
   "display_name": "Python 3",
   "language": "python",
   "name": "python3"
  },
  "language_info": {
   "codemirror_mode": {
    "name": "ipython",
    "version": 3
   },
   "file_extension": ".py",
   "mimetype": "text/x-python",
   "name": "python",
   "nbconvert_exporter": "python",
   "pygments_lexer": "ipython3",
   "version": "3.11.1 (main, Jan  6 2023, 00:00:00) [GCC 12.2.1 20221121 (Red Hat 12.2.1-4)]"
  },
  "vscode": {
   "interpreter": {
    "hash": "767d51c1340bd893661ea55ea3124f6de3c7a262a8b4abca0554b478b1e2ff90"
   }
  }
 },
 "nbformat": 4,
 "nbformat_minor": 4
}
