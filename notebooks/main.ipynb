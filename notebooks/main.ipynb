{
 "cells": [
  {
   "cell_type": "code",
   "execution_count": 2,
   "metadata": {},
   "outputs": [],
   "source": [
    "import os\n",
    "import json\n",
    "import pandas as pd"
   ]
  },
  {
   "cell_type": "code",
   "execution_count": 10,
   "metadata": {},
   "outputs": [],
   "source": [
    "path_proj = '../'\n",
    "path_data = os.path.join(path_proj, 'data')\n",
    "path_data_txt = os.path.join(path_data, 'txt-files')\n",
    "parquet_file = os.path.join(path_data, 'df_origem_paragrafos.parquet')"
   ]
  },
  {
   "attachments": {},
   "cell_type": "markdown",
   "metadata": {},
   "source": [
    "# Create .txt files"
   ]
  },
  {
   "cell_type": "code",
   "execution_count": null,
   "metadata": {},
   "outputs": [],
   "source": [
    "# create pandas dataframe from par'quet file\n",
    "df = pd.read_parquet(parquet_file)\n",
    "\n",
    "# print first item of column 'TXT' in df\n",
    "df_txt = df.filter(items=['TXT'])\n",
    "\n",
    "# iterate over rows with iterrows()\n",
    "for index, row in df_txt.iterrows():\n",
    "    # create txt file\n",
    "    with open(os.path.join(path_data, 'txt-files', 'data'+ str(index) + '.txt'), 'w') as f:\n",
    "        f.write(row['TXT'])"
   ]
  },
  {
   "attachments": {},
   "cell_type": "markdown",
   "metadata": {},
   "source": [
    "# Denoising. Method 1\n",
    "Testing code form https://programminghistorian.org/en/lessons/generating-an-ordered-data-set-from-an-OCR-text-file\n"
   ]
  },
  {
   "attachments": {},
   "cell_type": "markdown",
   "metadata": {},
   "source": [
    "## Initialize some variables"
   ]
  },
  {
   "cell_type": "code",
   "execution_count": 1,
   "metadata": {},
   "outputs": [],
   "source": [
    "#import regular expressions\n",
    "import re\n",
    "# import pprint. To print in a more readable format\n",
    "from pprint import pprint\n",
    "# import collections to use Counter\n",
    "from collections import Counter"
   ]
  },
  {
   "cell_type": "code",
   "execution_count": 2,
   "metadata": {},
   "outputs": [],
   "source": [
    "#initializing global variables\n",
    "n = 0 # copied from orignal file\n",
    "this_folio  = '[fo. 1 r.]' # copied from orignal file\n",
    "this_page = 1 # copied from orignal file\n",
    "chaters = dict()  # copied from orignal file  "
   ]
  },
  {
   "cell_type": "code",
   "execution_count": 3,
   "metadata": {},
   "outputs": [],
   "source": [
    "# regular expressions:\n",
    "slug = re.compile(\"(\\[~~~~\\sGScriba_)(.*)\\s::::\\s(\\d+)\\s~~~~\\]\") #copied from the original code\n",
    "fol = re.compile(\"\\[fo\\.\\s?\\d+\\s?[rv]\\.\\s?\\]\") #copied from the original code\n",
    "pgbrk = re.compile(\"~~~~~ PAGE (\\d+) ~~~~~\") #copied from the original code"
   ]
  },
  {
   "cell_type": "code",
   "execution_count": 11,
   "metadata": {},
   "outputs": [],
   "source": [
    "# the canonical file you will be reading from\n",
    "fin = open(os.path.join(path_data_txt, 'data1.txt'), 'r')\n",
    "GScriba = fin.readlines()"
   ]
  },
  {
   "cell_type": "code",
   "execution_count": null,
   "metadata": {},
   "outputs": [],
   "source": []
  }
 ],
 "metadata": {
  "kernelspec": {
   "display_name": "Python 3",
   "language": "python",
   "name": "python3"
  },
  "language_info": {
   "codemirror_mode": {
    "name": "ipython",
    "version": 3
   },
   "file_extension": ".py",
   "mimetype": "text/x-python",
   "name": "python",
   "nbconvert_exporter": "python",
   "pygments_lexer": "ipython3",
   "version": "3.10.6"
  },
  "orig_nbformat": 4,
  "vscode": {
   "interpreter": {
    "hash": "2b6231860cf3da8659dad4276eadccb21e197ddcec553c65f6200c7ec43aedb7"
   }
  }
 },
 "nbformat": 4,
 "nbformat_minor": 2
}
